{
 "cells": [
  {
   "cell_type": "markdown",
   "id": "47c1dead",
   "metadata": {},
   "source": [
    "# SyriaTel Customer Prediction"
   ]
  },
  {
   "cell_type": "markdown",
   "id": "293792aa",
   "metadata": {},
   "source": [
    "## Business Understanding"
   ]
  },
  {
   "cell_type": "markdown",
   "id": "a06d1064",
   "metadata": {},
   "source": [
    "### Overview\n",
    "\n",
    "My stakeholder is SyriaTel.\n",
    "\n",
    "Syriatel is a telecommunications company that operates in Syria. It is one of the two major mobile network operators in the country. Syriatel was founded in 2001 and is one of the largest companies in Syria. It is majority-owned by Rami Makhlouf, a Syrian businessman with close ties to the Assad regime.\n",
    "\n",
    "The company plays a crucial role in connecting people and driving economic growth by providing a range of mobile services including voice, SMS, and data. It has a significant market share in the Syrian mobile market. They also offer various data plans catering to different customer needs, allowing users to access the internet, stream music/videos, and use mobile applications. \n",
    "\n",
    "SyriaTel targets individual consumers in Syria, offering mobile subscriptions with voice, text, and data options to suit various usage patterns (personal, professional). Subscription-Based Revenue: SyriaTel's primary revenue stream comes from customer subscriptions to their mobile network plans. These plans offer a set amount of voice minutes, text messages, and data for a fixed monthly fee.\n"
   ]
  },
  {
   "cell_type": "markdown",
   "id": "673edefb",
   "metadata": {},
   "source": [
    "### Challenges\n",
    "\n",
    "Some of the challenges SyriaTel is facing include:\n",
    "\n",
    "- Customers discontinuing service which leads to lost revenue\n",
    "- Competition from other providers offering similar or differentiated services\n",
    "- High costs of aquiring new customers\n",
    "- The need to keep up with new technological advancements to stay relevant\n",
    "- The need to strike a balance between offering competitive pricing and maintaining profitability\n",
    "- Maintaining good customer satisfaction to ensure customer retention\n",
    "\n",
    "In this project, we will mainly focus on the first challenge, Customer Churn."
   ]
  },
  {
   "cell_type": "markdown",
   "id": "4ef3ae64",
   "metadata": {},
   "source": [
    "### Proposed Solutions\n",
    "\n",
    "Some proposed solutions include: \n",
    "\n",
    "Developing a customer churn prediction model to identify subscribers at high risk of churning. This model will analyze historical customer data and identify patterns associated with churn.\n",
    "\n",
    "Exploring different machine learning models like Logistic Regression, Random Forest, Decision Trees, or Gradient Boosting Machines. Since each model has its strengths and weaknesses, experimentation is key.\n",
    "\n",
    "Evaluating model performance using relevant classification metrics like accuracy(Overall proportion of correct predictions, both churn and non-churn), precision(Out of predicted churned customers, what percentage actually churned), recall(Out of actual churned customers, what percentage were correctly predicted as churned?), and F1-score (Harmonic mean of precision and recall, balancing both metrics).\n",
    "\n",
    "Exploring our models to understand which factors contribute most to churn. This can provide valuable insights for customer retention strategies."
   ]
  },
  {
   "cell_type": "markdown",
   "id": "3e522da7",
   "metadata": {},
   "source": [
    "### Problem Statement\n",
    "\n",
    "SyriaTel is facing the challenge of customer churn, where customers discontinue their services. This churn results in lost revenue and increased customer acquisition costs. To address this challenge, we can use machine learning to build a customer churn prediction model. This model will analyze historical customer data to identify patterns and characteristics associated with customer churn. By predicting which customers are at high risk of churning, SyriaTel can take proactive steps to retain these valuable customers.\n"
   ]
  },
  {
   "cell_type": "markdown",
   "id": "b38657de",
   "metadata": {},
   "source": []
  },
  {
   "cell_type": "markdown",
   "id": "49ff5b93",
   "metadata": {},
   "source": []
  },
  {
   "cell_type": "code",
   "execution_count": null,
   "id": "bbdd074f",
   "metadata": {},
   "outputs": [],
   "source": []
  }
 ],
 "metadata": {
  "kernelspec": {
   "display_name": "Python 3 (ipykernel)",
   "language": "python",
   "name": "python3"
  },
  "language_info": {
   "codemirror_mode": {
    "name": "ipython",
    "version": 3
   },
   "file_extension": ".py",
   "mimetype": "text/x-python",
   "name": "python",
   "nbconvert_exporter": "python",
   "pygments_lexer": "ipython3",
   "version": "3.9.12"
  }
 },
 "nbformat": 4,
 "nbformat_minor": 5
}
